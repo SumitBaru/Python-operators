{
 "cells": [
  {
   "cell_type": "code",
   "execution_count": 1,
   "id": "c4872f94-39d2-44bf-8b37-cea0a30f9887",
   "metadata": {},
   "outputs": [
    {
     "name": "stdout",
     "output_type": "stream",
     "text": [
      "Sum is: 12\n",
      "Difference is: 2\n",
      "Product is: 35\n",
      "Quotient is: 2\n"
     ]
    }
   ],
   "source": [
    "a = 7\n",
    "b = 5\n",
    "sum = a+b\n",
    "difference = a-b\n",
    "product = a*b\n",
    "quotient = a%b\n",
    "\n",
    "print(\"Sum is:\",sum)\n",
    "print(\"Difference is:\",difference)\n",
    "print(\"Product is:\",product)\n",
    "print(\"Quotient is:\",quotient)"
   ]
  },
  {
   "cell_type": "code",
   "execution_count": null,
   "id": "09d5fd59-212b-4695-b7d1-6190dcc46fdb",
   "metadata": {},
   "outputs": [],
   "source": [
    "#2."
   ]
  },
  {
   "cell_type": "code",
   "execution_count": 7,
   "id": "3becadf0-15dd-4aad-8dfc-0ad78afb97dc",
   "metadata": {},
   "outputs": [
    {
     "data": {
      "text/plain": [
       "110"
      ]
     },
     "execution_count": 7,
     "metadata": {},
     "output_type": "execute_result"
    }
   ],
   "source": [
    "a = 100\n",
    "\n",
    "a += 10\n",
    "a"
   ]
  },
  {
   "cell_type": "code",
   "execution_count": 9,
   "id": "0252486d-57b3-4b42-9247-de4f2d338520",
   "metadata": {},
   "outputs": [
    {
     "data": {
      "text/plain": [
       "40"
      ]
     },
     "execution_count": 9,
     "metadata": {},
     "output_type": "execute_result"
    }
   ],
   "source": [
    "a = 50\n",
    "a -= 10\n",
    "a"
   ]
  },
  {
   "cell_type": "code",
   "execution_count": 10,
   "id": "307311f4-ff88-46a5-b993-b017c8d6ab32",
   "metadata": {},
   "outputs": [
    {
     "data": {
      "text/plain": [
       "20.0"
      ]
     },
     "execution_count": 10,
     "metadata": {},
     "output_type": "execute_result"
    }
   ],
   "source": [
    "a = 60\n",
    "a /= 3\n",
    "a"
   ]
  },
  {
   "cell_type": "code",
   "execution_count": 11,
   "id": "735a7414-5e7c-4787-a3ca-cb40d68117c5",
   "metadata": {},
   "outputs": [
    {
     "data": {
      "text/plain": [
       "50"
      ]
     },
     "execution_count": 11,
     "metadata": {},
     "output_type": "execute_result"
    }
   ],
   "source": [
    "a = 5\n",
    "a *= 10\n",
    "a"
   ]
  },
  {
   "cell_type": "code",
   "execution_count": 12,
   "id": "95d75c00-ef83-4d4a-bbf4-a61815821200",
   "metadata": {},
   "outputs": [
    {
     "data": {
      "text/plain": [
       "2"
      ]
     },
     "execution_count": 12,
     "metadata": {},
     "output_type": "execute_result"
    }
   ],
   "source": [
    "a = 50\n",
    "a %= 3\n",
    "a"
   ]
  },
  {
   "cell_type": "code",
   "execution_count": null,
   "id": "892434bc-8ef1-40d1-a289-33f4e34bea0a",
   "metadata": {},
   "outputs": [],
   "source": [
    "#3."
   ]
  },
  {
   "cell_type": "code",
   "execution_count": 14,
   "id": "8562d4f2-1520-49da-9f06-65cce5b2669a",
   "metadata": {},
   "outputs": [
    {
     "data": {
      "text/plain": [
       "True"
      ]
     },
     "execution_count": 14,
     "metadata": {},
     "output_type": "execute_result"
    }
   ],
   "source": [
    "5 == 5"
   ]
  },
  {
   "cell_type": "code",
   "execution_count": 15,
   "id": "0127fdd6-fbfe-4e3c-ac2e-401a792cfbbd",
   "metadata": {},
   "outputs": [
    {
     "data": {
      "text/plain": [
       "True"
      ]
     },
     "execution_count": 15,
     "metadata": {},
     "output_type": "execute_result"
    }
   ],
   "source": [
    "12 != 10"
   ]
  },
  {
   "cell_type": "code",
   "execution_count": 16,
   "id": "9dcc3f80-c321-4127-b241-d58356be1e60",
   "metadata": {},
   "outputs": [
    {
     "data": {
      "text/plain": [
       "True"
      ]
     },
     "execution_count": 16,
     "metadata": {},
     "output_type": "execute_result"
    }
   ],
   "source": [
    "100 > 50"
   ]
  },
  {
   "cell_type": "code",
   "execution_count": 17,
   "id": "e3dc416d-8c90-40c2-9a80-6e91de8b300a",
   "metadata": {},
   "outputs": [
    {
     "data": {
      "text/plain": [
       "False"
      ]
     },
     "execution_count": 17,
     "metadata": {},
     "output_type": "execute_result"
    }
   ],
   "source": [
    "200 < 60"
   ]
  },
  {
   "cell_type": "code",
   "execution_count": 18,
   "id": "b908631d-66fa-43d8-92c9-e41b61213485",
   "metadata": {},
   "outputs": [
    {
     "data": {
      "text/plain": [
       "True"
      ]
     },
     "execution_count": 18,
     "metadata": {},
     "output_type": "execute_result"
    }
   ],
   "source": [
    "200 >= 200"
   ]
  },
  {
   "cell_type": "code",
   "execution_count": 19,
   "id": "895cbb57-57e0-48c6-af61-49a8324e1943",
   "metadata": {},
   "outputs": [
    {
     "data": {
      "text/plain": [
       "True"
      ]
     },
     "execution_count": 19,
     "metadata": {},
     "output_type": "execute_result"
    }
   ],
   "source": [
    "25 <= 30"
   ]
  },
  {
   "cell_type": "code",
   "execution_count": null,
   "id": "8e1273de-0259-4e15-a570-bc3256ed0410",
   "metadata": {},
   "outputs": [],
   "source": [
    "#4."
   ]
  },
  {
   "cell_type": "code",
   "execution_count": 20,
   "id": "135124e2-c792-4448-a16a-85dc080b955f",
   "metadata": {},
   "outputs": [
    {
     "data": {
      "text/plain": [
       "True"
      ]
     },
     "execution_count": 20,
     "metadata": {},
     "output_type": "execute_result"
    }
   ],
   "source": [
    "True and True"
   ]
  },
  {
   "cell_type": "code",
   "execution_count": 21,
   "id": "454ab28e-3bde-44bc-a571-ae1603f862a9",
   "metadata": {},
   "outputs": [
    {
     "data": {
      "text/plain": [
       "False"
      ]
     },
     "execution_count": 21,
     "metadata": {},
     "output_type": "execute_result"
    }
   ],
   "source": [
    "True and False"
   ]
  },
  {
   "cell_type": "code",
   "execution_count": 22,
   "id": "4c389cf6-812b-419a-ba28-72dfed6f1beb",
   "metadata": {},
   "outputs": [
    {
     "data": {
      "text/plain": [
       "False"
      ]
     },
     "execution_count": 22,
     "metadata": {},
     "output_type": "execute_result"
    }
   ],
   "source": [
    "False and False"
   ]
  },
  {
   "cell_type": "code",
   "execution_count": 23,
   "id": "efad4cc6-c83e-400c-8772-74212ae0d06b",
   "metadata": {},
   "outputs": [
    {
     "data": {
      "text/plain": [
       "True"
      ]
     },
     "execution_count": 23,
     "metadata": {},
     "output_type": "execute_result"
    }
   ],
   "source": [
    "True or True"
   ]
  },
  {
   "cell_type": "code",
   "execution_count": 24,
   "id": "1f9b058b-c8ae-44b7-99f4-8ec0aa25a1ab",
   "metadata": {},
   "outputs": [
    {
     "data": {
      "text/plain": [
       "True"
      ]
     },
     "execution_count": 24,
     "metadata": {},
     "output_type": "execute_result"
    }
   ],
   "source": [
    "False or True"
   ]
  },
  {
   "cell_type": "code",
   "execution_count": 25,
   "id": "784cc7c4-feb0-461d-89ff-1c2a0d0e9ff0",
   "metadata": {},
   "outputs": [
    {
     "data": {
      "text/plain": [
       "False"
      ]
     },
     "execution_count": 25,
     "metadata": {},
     "output_type": "execute_result"
    }
   ],
   "source": [
    "False or False"
   ]
  },
  {
   "cell_type": "code",
   "execution_count": 26,
   "id": "ef463945-ccc9-46ec-bfcb-67f8bcf8c9e9",
   "metadata": {},
   "outputs": [
    {
     "data": {
      "text/plain": [
       "False"
      ]
     },
     "execution_count": 26,
     "metadata": {},
     "output_type": "execute_result"
    }
   ],
   "source": [
    "not True"
   ]
  },
  {
   "cell_type": "code",
   "execution_count": 27,
   "id": "5cd5dde9-838a-4989-985c-2f028219ef41",
   "metadata": {},
   "outputs": [
    {
     "data": {
      "text/plain": [
       "True"
      ]
     },
     "execution_count": 27,
     "metadata": {},
     "output_type": "execute_result"
    }
   ],
   "source": [
    "not False"
   ]
  },
  {
   "cell_type": "code",
   "execution_count": null,
   "id": "3f29712e-801b-4823-975f-e99de3746f06",
   "metadata": {},
   "outputs": [],
   "source": [
    "#5."
   ]
  },
  {
   "cell_type": "code",
   "execution_count": 35,
   "id": "b89322b1-3535-4aef-89dc-04267a421608",
   "metadata": {},
   "outputs": [
    {
     "name": "stdout",
     "output_type": "stream",
     "text": [
      "id of a is: 140704892472344\n",
      "id of b is: 2866439737008\n"
     ]
    }
   ],
   "source": [
    "a = 20\n",
    "b = \"PWSKILLS\"\n",
    "\n",
    "print (\"id of a is:\",id(a))\n",
    "print(\"id of b is:\",id(b))"
   ]
  },
  {
   "cell_type": "code",
   "execution_count": null,
   "id": "bef3003c-8908-432a-992a-49be97190235",
   "metadata": {},
   "outputs": [],
   "source": []
  },
  {
   "cell_type": "code",
   "execution_count": null,
   "id": "cd9de0b0-ac6f-4ba8-b984-ece538aa4d6a",
   "metadata": {},
   "outputs": [],
   "source": [
    "#6."
   ]
  },
  {
   "cell_type": "code",
   "execution_count": 36,
   "id": "59b012a7-97da-478e-b2c5-7eee22262640",
   "metadata": {},
   "outputs": [
    {
     "data": {
      "text/plain": [
       "'0b10100'"
      ]
     },
     "execution_count": 36,
     "metadata": {},
     "output_type": "execute_result"
    }
   ],
   "source": [
    "bin(20)"
   ]
  },
  {
   "cell_type": "code",
   "execution_count": 37,
   "id": "a0659540-5da9-4d3e-89b7-3789faa2ee69",
   "metadata": {},
   "outputs": [
    {
     "data": {
      "text/plain": [
       "'0b110111'"
      ]
     },
     "execution_count": 37,
     "metadata": {},
     "output_type": "execute_result"
    }
   ],
   "source": [
    "bin(55)"
   ]
  },
  {
   "cell_type": "code",
   "execution_count": null,
   "id": "2fc2a603-d51e-4940-a4da-ae133db73be8",
   "metadata": {},
   "outputs": [],
   "source": []
  },
  {
   "cell_type": "code",
   "execution_count": null,
   "id": "33d4f014-eb0b-4651-b9d6-9bc6bc9e5d97",
   "metadata": {},
   "outputs": [],
   "source": [
    "#7."
   ]
  },
  {
   "cell_type": "code",
   "execution_count": 42,
   "id": "33c35233-9c11-4ff9-b5c2-82ed8af72e72",
   "metadata": {},
   "outputs": [
    {
     "name": "stdout",
     "output_type": "stream",
     "text": [
      "-5\n"
     ]
    }
   ],
   "source": [
    "a = 5\n",
    "b = a * -1\n",
    "print(b)"
   ]
  },
  {
   "cell_type": "code",
   "execution_count": null,
   "id": "6e2edd1a-7587-4ccf-a93e-4fa408706885",
   "metadata": {},
   "outputs": [],
   "source": []
  },
  {
   "cell_type": "code",
   "execution_count": null,
   "id": "b5f29567-6a89-45ad-949f-deb3511bb6a8",
   "metadata": {},
   "outputs": [],
   "source": [
    "#8."
   ]
  },
  {
   "cell_type": "code",
   "execution_count": 41,
   "id": "432e8647-d0b0-4796-a6f4-87afa8fa18a8",
   "metadata": {},
   "outputs": [
    {
     "name": "stdout",
     "output_type": "stream",
     "text": [
      "The number is even.\n"
     ]
    }
   ],
   "source": [
    "a = 10\n",
    "\n",
    "if a % 2 == 0:\n",
    "    print(\"The number is even.\")\n",
    "else:\n",
    "    print(\"The number is odd.\")"
   ]
  },
  {
   "cell_type": "code",
   "execution_count": null,
   "id": "32929b39-f229-44a8-bdc6-da22cd5e844c",
   "metadata": {},
   "outputs": [],
   "source": []
  }
 ],
 "metadata": {
  "kernelspec": {
   "display_name": "Python 3 (ipykernel)",
   "language": "python",
   "name": "python3"
  },
  "language_info": {
   "codemirror_mode": {
    "name": "ipython",
    "version": 3
   },
   "file_extension": ".py",
   "mimetype": "text/x-python",
   "name": "python",
   "nbconvert_exporter": "python",
   "pygments_lexer": "ipython3",
   "version": "3.12.2"
  }
 },
 "nbformat": 4,
 "nbformat_minor": 5
}
